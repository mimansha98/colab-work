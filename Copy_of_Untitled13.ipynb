{
  "nbformat": 4,
  "nbformat_minor": 0,
  "metadata": {
    "colab": {
      "name": "Copy of Untitled13.ipynb",
      "provenance": [],
      "include_colab_link": true
    },
    "kernelspec": {
      "display_name": "Python 3",
      "name": "python3"
    }
  },
  "cells": [
    {
      "cell_type": "markdown",
      "metadata": {
        "id": "view-in-github",
        "colab_type": "text"
      },
      "source": [
        "<a href=\"https://colab.research.google.com/github/mimansha98/colab-work/blob/main/Copy_of_Untitled13.ipynb\" target=\"_parent\"><img src=\"https://colab.research.google.com/assets/colab-badge.svg\" alt=\"Open In Colab\"/></a>"
      ]
    },
    {
      "cell_type": "code",
      "metadata": {
        "colab": {
          "base_uri": "https://localhost:8080/"
        },
        "id": "t7fokSOy6Mcz",
        "outputId": "ad951bbe-5ca5-42a7-f8c5-73ac8ece2db6"
      },
      "source": [
        "\n",
        "from google.colab import drive\n",
        "drive.mount('/content/drive')"
      ],
      "execution_count": null,
      "outputs": [
        {
          "output_type": "stream",
          "text": [
            "Mounted at /content/drive\n"
          ],
          "name": "stdout"
        }
      ]
    },
    {
      "cell_type": "code",
      "metadata": {
        "colab": {
          "base_uri": "https://localhost:8080/"
        },
        "id": "zECErjrqOm7E",
        "outputId": "4ce57fee-9142-4139-eb2d-adbc47533f5d"
      },
      "source": [
        "from zipfile import ZipFile\n",
        "file_name=\"/content/drive/MyDrive/Test.zip\"\n",
        "with ZipFile(file_name, 'r') as zip:\n",
        "  zip.extractall()\n",
        "  print('done')"
      ],
      "execution_count": null,
      "outputs": [
        {
          "output_type": "stream",
          "text": [
            "done\n"
          ],
          "name": "stdout"
        }
      ]
    },
    {
      "cell_type": "code",
      "metadata": {
        "colab": {
          "base_uri": "https://localhost:8080/"
        },
        "id": "_VGt1FBx5_td",
        "outputId": "cfc800d4-ad6c-4e9c-979a-f0a362e9fdce"
      },
      "source": [
        "from zipfile import ZipFile\n",
        "file_name=\"/content/drive/MyDrive/Train.zip\"\n",
        "with ZipFile(file_name, 'r') as zip:\n",
        "  zip.extractall()\n",
        "  print('done')"
      ],
      "execution_count": null,
      "outputs": [
        {
          "output_type": "stream",
          "text": [
            "done\n"
          ],
          "name": "stdout"
        }
      ]
    },
    {
      "cell_type": "code",
      "metadata": {
        "colab": {
          "base_uri": "https://localhost:8080/"
        },
        "id": "GfMuaBkM89RY",
        "outputId": "74e6ec48-00f7-4dee-c658-8751fba36ac4"
      },
      "source": [
        "!ls /content/drive/My\\ Drive/preprocess.py"
      ],
      "execution_count": null,
      "outputs": [
        {
          "output_type": "stream",
          "text": [
            "'/content/drive/My Drive/preprocess.py'\n"
          ],
          "name": "stdout"
        }
      ]
    },
    {
      "cell_type": "code",
      "metadata": {
        "colab": {
          "base_uri": "https://localhost:8080/"
        },
        "id": "SH3VglRY8_3G",
        "outputId": "e2a8f242-8067-46d4-a869-8e026f4daca9"
      },
      "source": [
        "!ls /content/drive/My\\ Drive/predictor.py"
      ],
      "execution_count": null,
      "outputs": [
        {
          "output_type": "stream",
          "text": [
            "'/content/drive/My Drive/predictor.py'\n"
          ],
          "name": "stdout"
        }
      ]
    },
    {
      "cell_type": "code",
      "metadata": {
        "colab": {
          "base_uri": "https://localhost:8080/"
        },
        "id": "DWZ5Isex9iHJ",
        "outputId": "189b9ce2-60ad-4c8d-ec65-8357d6cb43de"
      },
      "source": [
        "!cat '/content/drive/My Drive/preprocess.py'"
      ],
      "execution_count": null,
      "outputs": [
        {
          "output_type": "stream",
          "text": [
            "# -*- coding: utf-8 -*-\n",
            "\"\"\"\n",
            "This is preprocess.py....\n",
            "\n",
            "Created on Mon Apr  8 19:15:12 2019\n",
            "\n",
            "@author: Quassarian Viper\n",
            "\"\"\"\n",
            "\n",
            "\n",
            "import numpy as np\n",
            "import matplotlib.pyplot as plt\n",
            "import cv2\n",
            "\n",
            "\n",
            "\n",
            "def borders(here_img, thresh):\n",
            "    size = here_img.shape\n",
            "    check = int(115 * size[0] / 600)\n",
            "    image = here_img[:]\n",
            "    top, bottom = 0, size[0] - 1\n",
            "    #plt.imshow(image)\n",
            "    #plt.show()\n",
            "    shape = size\n",
            "\n",
            "    #find the background color for empty column\n",
            "    bg = np.repeat(thresh, shape[1])\n",
            "    count = 0\n",
            "    for row in range(1, shape[0]):\n",
            "        if  (np.equal(bg, image[row]).any()) == True:\n",
            "            #print(count)\n",
            "            count += 1\n",
            "        else:\n",
            "            count = 0\n",
            "        if count >= check:\n",
            "            top = row - check\n",
            "            break\n",
            "    \n",
            "    \n",
            "    shape = image.shape\n",
            "    bg = np.repeat(thresh, shape[1])\n",
            "    count = 0\n",
            "    rows = np.arange(1, shape[0])\n",
            "    #print(rows)\n",
            "    for row in rows[::-1]:\n",
            "        if  (np.equal(bg, image[row]).any()) == True:\n",
            "            count += 1\n",
            "        else:\n",
            "            count = 0\n",
            "        if count >= check:\n",
            "            bottom = row + count\n",
            "            break\n",
            "    #print(count)\n",
            "    \n",
            "    \n",
            "    #plt.imshow(here_img[top:bottom, :])\n",
            "    #plt.imshow(here_img[top:bottom, :])\n",
            "    #plt.show()\n",
            "    \n",
            "    d1 = (top - 2) >= 0 \n",
            "    d2 = (bottom + 2) < size[0]\n",
            "    d = d1 and d2\n",
            "    if(d):\n",
            "        b = 2\n",
            "    else:\n",
            "        b = 0\n",
            "    \n",
            "    return (top, bottom, b)\n",
            "\n",
            "\n",
            "def detect_text(main_image, gray_img, localized, bc):        \n",
            "        cimg = cv2.resize(localized, (30, 30))\n",
            "        bordersize = 1\n",
            "        nimg = cv2.copyMakeBorder(cimg, top=bordersize, bottom=bordersize, left=bordersize, right=bordersize, borderType=cv2.BORDER_CONSTANT, value=[255-bc, 0, 0])\n",
            "\n",
            "        return main_image, nimg\n",
            "\n",
            "def segmentation(bordered, thresh):\n",
            "    try:\n",
            "        shape = bordered.shape\n",
            "        check = int(50 * shape[0] / 320)\n",
            "        image = bordered[:]\n",
            "        image = image[check:].T\n",
            "        shape = image.shape\n",
            "        #plt.imshow(image)\n",
            "        #plt.show()\n",
            "\n",
            "        #find the background color for empty column\n",
            "        bg = np.repeat(255 - thresh, shape[1])\n",
            "        bg_keys = []\n",
            "        for row in range(1, shape[0]):\n",
            "            if  (np.equal(bg, image[row]).all()):\n",
            "                bg_keys.append(row)            \n",
            "\n",
            "        lenkeys = len(bg_keys)-1\n",
            "        new_keys = [bg_keys[1], bg_keys[-1]]\n",
            "        #print(lenkeys)\n",
            "        for i in range(1, lenkeys):\n",
            "            if (bg_keys[i+1] - bg_keys[i]) > check:\n",
            "                new_keys.append(bg_keys[i])\n",
            "                #print(i)\n",
            "\n",
            "        new_keys = sorted(new_keys)\n",
            "        #print(new_keys)\n",
            "        segmented_templates = []\n",
            "        first = 0\n",
            "        for key in new_keys[1:]:\n",
            "            segment = bordered.T[first:key]\n",
            "            segmented_templates.append(segment.T)\n",
            "            #show middle segments\n",
            "            #plt.imshow(segment.T)\n",
            "            #plt.show()\n",
            "            first = key\n",
            "        last_segment = bordered.T[new_keys[-1]:]\n",
            "        segmented_templates.append(last_segment.T)\n",
            "        \n",
            "        #check if each segment shape is enough to do recognition\n",
            "        \n",
            "\n",
            "        return(segmented_templates)\n",
            "    except:\n",
            "        return [bordered]\n",
            "    \n",
            "def localize(main_image, gray_img, localized, bc, show):\n",
            "    #open the template as gray scale image\n",
            "        template = localized\n",
            "        #print(template.shape)\n",
            "        width, height = template.shape[::-1] #get the width and height\n",
            "        #match the template using cv2.matchTemplate\n",
            "        match = cv2.matchTemplate(gray_img, template, cv2.TM_CCOEFF_NORMED)\n",
            "        threshold = 0.8\n",
            "        position = np.where(match >= threshold) #get the location of template in the image\n",
            "        for point in zip(*position[::-1]): #draw the rectangle around the matched template\n",
            "            cv2.rectangle(main_image, point, (point[0] + width, point[1] + height), (255 - bc, 0, bc ), 2)\n",
            "\n",
            "        return main_image\n",
            "    \n",
            "    \n",
            "def preprocess(bgr_img):#gray image   \n",
            "    img = bgr_img[:]\n",
            "    blur = cv2.GaussianBlur(img,(5,5),0)\n",
            "    ret,th_img = cv2.threshold(blur,0,255,cv2.THRESH_BINARY_INV+cv2.THRESH_OTSU) #converts black to white and inverse\n",
            "\n",
            "    rows, cols = th_img.shape\n",
            "    bg_test = np.array([th_img[i][i] for i in range(5)])\n",
            "    if bg_test.all() == 0:\n",
            "        text_color = 255\n",
            "    else:\n",
            "        text_color = 0\n",
            "    #print('Process: Localization....\\n')\n",
            "    tb = borders(th_img, text_color)\n",
            "    lr = borders(th_img.T, text_color)\n",
            "    dummy = int(np.average((tb[2], lr[2]))) + 2\n",
            "    template = th_img[tb[0]+dummy:tb[1]-dummy, lr[0]+dummy:lr[1]-dummy]\n",
            "    #print(\"Process: Segmentation....\\n\")\n",
            "    segments = segmentation(template, text_color)\n",
            "    \n",
            "    #print('Process: Detection.....\\n')\n",
            "    return segments, template, th_img, text_color\n",
            "    \n",
            "\n",
            "    \n",
            "\n",
            "#original_img = cv2.imread('1.png', 0)#gray image\n",
            "#plt.imshow(original_img)\n",
            "#plt.show()\n",
            "\n",
            "#nimg = recognition(original_img)"
          ],
          "name": "stdout"
        }
      ]
    },
    {
      "cell_type": "code",
      "metadata": {
        "colab": {
          "base_uri": "https://localhost:8080/"
        },
        "id": "e-5nZIV99qHs",
        "outputId": "37175966-63ec-405f-97c7-2118219bda6c"
      },
      "source": [
        "!cat '/content/drive/My Drive/predictor.py'"
      ],
      "execution_count": null,
      "outputs": [
        {
          "output_type": "stream",
          "text": [
            "# -*- coding: utf-8 -*-\n",
            "\"\"\"\n",
            "Created on Mon Apr  8 19:15:12 2019\n",
            "\n",
            "@author: Quassarian Viper\n",
            "\"\"\"\n",
            "import numpy as np\n",
            "from keras.models import model_from_json\n",
            "from keras.models import load_model\n",
            "\n",
            "def prediction(img):\n",
            "    # load json and create model\n",
            "    json_file = open('cnn2\\cnn2.json', 'r')\n",
            "    \n",
            "    loaded_model_json = json_file.read()\n",
            "    json_file.close()\n",
            "    loaded_model = model_from_json(loaded_model_json)\n",
            "    \n",
            "    # load weights into new model\n",
            "    loaded_model.load_weights(\"cnn2\\cnn2.h5\")\n",
            "    #print(\"Loaded model from disk\")\n",
            "    \n",
            "    loaded_model.save('cnn.hdf5')\n",
            "    loaded_model=load_model('cnn.hdf5')\n",
            "    \n",
            "    characters = '०,१,२,३,४,५,६,७,८,९,क,ख,ग,घ,ङ,च,छ,ज,झ,ञ,ट,ठ,ड,ढ,ण,त,थ,द,ध,न,प,फ,ब,भ,म,य,र,ल,व,श,ष,स,ह,क्ष,त्र,ज्ञ'\n",
            "    characters = characters.split(',')\n",
            "    \n",
            "    x = np.asarray(img, dtype = np.float32).reshape(1, 32, 32, 1) / 255 \n",
            "    \n",
            "    output = loaded_model.predict(x)\n",
            "    output = output.reshape(46)\n",
            "    predicted = np.argmax(output)\n",
            "    devanagari_label = characters[predicted]\n",
            "    success = output[predicted] * 100\n",
            "    \n",
            "    return devanagari_label, success\n"
          ],
          "name": "stdout"
        }
      ]
    },
    {
      "cell_type": "code",
      "metadata": {
        "id": "LFhlH9es950K"
      },
      "source": [
        "import sys\n",
        "sys.path.append('/content/drive/My Drive')"
      ],
      "execution_count": null,
      "outputs": []
    },
    {
      "cell_type": "code",
      "metadata": {
        "colab": {
          "base_uri": "https://localhost:8080/",
          "height": 35
        },
        "id": "FRJdwq905_-E",
        "outputId": "d3f52bf5-6596-49fd-8c11-07828ae166e7"
      },
      "source": [
        "import numpy as np\n",
        "import matplotlib.pyplot as plt\n",
        "from tensorflow.keras.preprocessing.image import ImageDataGenerator\n",
        "import tensorflow as tf\n",
        "import os\n",
        "\n",
        "tf.__version__"
      ],
      "execution_count": null,
      "outputs": [
        {
          "output_type": "execute_result",
          "data": {
            "application/vnd.google.colaboratory.intrinsic+json": {
              "type": "string"
            },
            "text/plain": [
              "'2.3.0'"
            ]
          },
          "metadata": {
            "tags": []
          },
          "execution_count": 9
        }
      ]
    },
    {
      "cell_type": "code",
      "metadata": {
        "colab": {
          "base_uri": "https://localhost:8080/"
        },
        "id": "ek990FGt6AL8",
        "outputId": "9c3d291e-d835-441a-b327-06c120db01d4"
      },
      "source": [
        "S = 32 # imnput shape of our model \n",
        "\n",
        "# rescale our images\n",
        "trainDatagen = ImageDataGenerator(rescale=1./255)\n",
        "\n",
        "testDatagen = ImageDataGenerator(rescale=\n",
        "                                 1./255)\n",
        "# minor image processing\n",
        "train_set = trainDatagen.flow_from_directory(\n",
        "        '/content/Train/',\n",
        "        target_size=(S, S),\n",
        "        color_mode='grayscale',\n",
        "        batch_size=32,\n",
        "        class_mode='categorical')\n",
        "\n",
        "test_set = testDatagen.flow_from_directory(\n",
        "        '/content/Test',\n",
        "        target_size=(S, S),\n",
        "        color_mode='grayscale',\n",
        "        batch_size=32,\n",
        "        class_mode='categorical')"
      ],
      "execution_count": null,
      "outputs": [
        {
          "output_type": "stream",
          "text": [
            "Found 78200 images belonging to 46 classes.\n",
            "Found 13800 images belonging to 46 classes.\n"
          ],
          "name": "stdout"
        }
      ]
    },
    {
      "cell_type": "code",
      "metadata": {
        "colab": {
          "base_uri": "https://localhost:8080/",
          "height": 607
        },
        "id": "0tvTJouk6N5a",
        "outputId": "04332641-bf97-4c3e-f415-8cb007ed12c1"
      },
      "source": [
        "classes = list(train_set.class_indices.keys())\n",
        "r=3\n",
        "c=3\n",
        "fig = plt.figure(figsize=(10, 10))\n",
        "for i in range(r*c):\n",
        "    plt.subplot(r, c, i+1)\n",
        "    lbl = train_set[i][1][i]\n",
        "    img = train_set[i][0][i]\n",
        "    plt.title(classes[np.argmax(lbl)])\n",
        "    plt.imshow(img.reshape(32, 32))\n",
        "plt.show()"
      ],
      "execution_count": null,
      "outputs": [
        {
          "output_type": "display_data",
          "data": {
            "image/png": "[encoded data removed]",
            "text/plain": [
              "<Figure size 720x720 with 9 Axes>"
            ]
          },
          "metadata": {
            "tags": [],
            "needs_background": "light"
          }
        }
      ]
    },
    {
      "cell_type": "code",
      "metadata": {
        "id": "F3uKHM0M6OGq"
      },
      "source": [
        "from tensorflow.keras.models import Sequential\n",
        "from tensorflow.keras.layers import Conv2D, MaxPooling2D, Dense, Dropout, Flatten\n",
        "# from tensorflow.keras.optimizers import SGD\n",
        "# from tensorflow.keras.models import model_from_json\n",
        "# from tensorflow.keras.models import load_model"
      ],
      "execution_count": null,
      "outputs": []
    },
    {
      "cell_type": "code",
      "metadata": {
        "colab": {
          "base_uri": "https://localhost:8080/"
        },
        "id": "geAka0xb6ORZ",
        "outputId": "45891adc-14e7-42b9-9d98-a1f01567dda3"
      },
      "source": [
        "model = Sequential()\n",
        "model.add(Conv2D(32, (3, 3), activation = 'relu', input_shape = (32, 32, 1), data_format = 'channels_last'))\n",
        "model.add(Conv2D(32, (3, 3), activation='relu'))\n",
        "model.add(MaxPooling2D(pool_size=(2, 2)))\n",
        "model.add(Dropout(0.25))\n",
        "\n",
        "model.add(Conv2D(64, (3, 3), activation='relu'))\n",
        "model.add(Conv2D(64, (3, 3), activation='relu'))\n",
        "model.add(MaxPooling2D(pool_size=(2, 2)))\n",
        "model.add(Dropout(0.25))\n",
        "\n",
        "model.add(Flatten())\n",
        "model.add(Dense(256, activation='relu'))\n",
        "model.add(Dropout(0.5))\n",
        "model.add(Dense(46, activation='softmax'))\n",
        "\n",
        "model.summary()"
      ],
      "execution_count": null,
      "outputs": [
        {
          "output_type": "stream",
          "text": [
            "Model: \"sequential\"\n",
            "_________________________________________________________________\n",
            "Layer (type)                 Output Shape              Param #   \n",
            "=================================================================\n",
            "conv2d (Conv2D)              (None, 30, 30, 32)        320       \n",
            "_________________________________________________________________\n",
            "conv2d_1 (Conv2D)            (None, 28, 28, 32)        9248      \n",
            "_________________________________________________________________\n",
            "max_pooling2d (MaxPooling2D) (None, 14, 14, 32)        0         \n",
            "_________________________________________________________________\n",
            "dropout (Dropout)            (None, 14, 14, 32)        0         \n",
            "_________________________________________________________________\n",
            "conv2d_2 (Conv2D)            (None, 12, 12, 64)        18496     \n",
            "_________________________________________________________________\n",
            "conv2d_3 (Conv2D)            (None, 10, 10, 64)        36928     \n",
            "_________________________________________________________________\n",
            "max_pooling2d_1 (MaxPooling2 (None, 5, 5, 64)          0         \n",
            "_________________________________________________________________\n",
            "dropout_1 (Dropout)          (None, 5, 5, 64)          0         \n",
            "_________________________________________________________________\n",
            "flatten (Flatten)            (None, 1600)              0         \n",
            "_________________________________________________________________\n",
            "dense (Dense)                (None, 256)               409856    \n",
            "_________________________________________________________________\n",
            "dropout_2 (Dropout)          (None, 256)               0         \n",
            "_________________________________________________________________\n",
            "dense_1 (Dense)              (None, 46)                11822     \n",
            "=================================================================\n",
            "Total params: 486,670\n",
            "Trainable params: 486,670\n",
            "Non-trainable params: 0\n",
            "_________________________________________________________________\n"
          ],
          "name": "stdout"
        }
      ]
    },
    {
      "cell_type": "code",
      "metadata": {
        "id": "rQq5IeLx6azP"
      },
      "source": [
        "model.compile(loss='categorical_crossentropy', optimizer='adam', metrics=['accuracy'])"
      ],
      "execution_count": null,
      "outputs": []
    },
    {
      "cell_type": "code",
      "metadata": {
        "id": "aMoaoHYB-2xv"
      },
      "source": [
        "import preprocess"
      ],
      "execution_count": null,
      "outputs": []
    },
    {
      "cell_type": "code",
      "metadata": {
        "id": "RpyA1ToT_O22"
      },
      "source": [
        "import predictor"
      ],
      "execution_count": null,
      "outputs": []
    },
    {
      "cell_type": "code",
      "metadata": {
        "colab": {
          "base_uri": "https://localhost:8080/"
        },
        "id": "ZIx4pBvN6Oc2",
        "outputId": "d5b29300-7b99-47ae-f220-d9304f6f5be7"
      },
      "source": [
        "#Evaluate the model, \n",
        "import time\n",
        "time1 = time.time()\n",
        "history = model.fit_generator(train_set, steps_per_epoch=len(train_set),\n",
        "                           epochs=10,\n",
        "                           workers = 4,\n",
        "                           validation_data=test_set,\n",
        "                           validation_steps=10,\n",
        "                           verbose = 1)\n",
        "time2 = time.time()\n",
        "score = model.evaluate_generator(test_set, steps=1)\n",
        "time3 = time.time()\n",
        "print(\"Train time = \", (time2 - time1)/60, \"min\", \"\\nTest time = \", (time3 - time2)/ 60, \"min\", \"\\n Test loss: \", score[0], \" Test accuracy: \", score[1])"
      ],
      "execution_count": null,
      "outputs": [
        {
          "output_type": "stream",
          "text": [
            "WARNING:tensorflow:From <ipython-input-17-5112a2992393>:9: Model.fit_generator (from tensorflow.python.keras.engine.training) is deprecated and will be removed in a future version.\n",
            "Instructions for updating:\n",
            "Please use Model.fit, which supports generators.\n",
            "Epoch 1/10\n",
            "2444/2444 [==============================] - 284s 116ms/step - loss: 0.7492 - accuracy: 0.7870 - val_loss: 0.1213 - val_accuracy: 0.9625\n",
            "Epoch 2/10\n",
            "2444/2444 [==============================] - 275s 113ms/step - loss: 0.2265 - accuracy: 0.9307 - val_loss: 0.0818 - val_accuracy: 0.9812\n",
            "Epoch 3/10\n",
            "2444/2444 [==============================] - 277s 113ms/step - loss: 0.1644 - accuracy: 0.9490 - val_loss: 0.0505 - val_accuracy: 0.9750\n",
            "Epoch 4/10\n",
            "2444/2444 [==============================] - 268s 110ms/step - loss: 0.1349 - accuracy: 0.9588 - val_loss: 0.0796 - val_accuracy: 0.9750\n",
            "Epoch 5/10\n",
            "2444/2444 [==============================] - 266s 109ms/step - loss: 0.1130 - accuracy: 0.9647 - val_loss: 0.0567 - val_accuracy: 0.9812\n",
            "Epoch 6/10\n",
            "2444/2444 [==============================] - 265s 108ms/step - loss: 0.0995 - accuracy: 0.9691 - val_loss: 0.0295 - val_accuracy: 0.9875\n",
            "Epoch 7/10\n",
            "2444/2444 [==============================] - 267s 109ms/step - loss: 0.0919 - accuracy: 0.9715 - val_loss: 0.0381 - val_accuracy: 0.9844\n",
            "Epoch 8/10\n",
            "2444/2444 [==============================] - 268s 110ms/step - loss: 0.0853 - accuracy: 0.9735 - val_loss: 0.0278 - val_accuracy: 0.9906\n",
            "Epoch 9/10\n",
            "2444/2444 [==============================] - 268s 110ms/step - loss: 0.0795 - accuracy: 0.9747 - val_loss: 0.0512 - val_accuracy: 0.9844\n",
            "Epoch 10/10\n",
            "2444/2444 [==============================] - 269s 110ms/step - loss: 0.0753 - accuracy: 0.9764 - val_loss: 0.0380 - val_accuracy: 0.9937\n",
            "WARNING:tensorflow:From <ipython-input-17-5112a2992393>:11: Model.evaluate_generator (from tensorflow.python.keras.engine.training) is deprecated and will be removed in a future version.\n",
            "Instructions for updating:\n",
            "Please use Model.evaluate, which supports generators.\n",
            "Train time =  45.16137662728627 min \n",
            "Test time =  0.0014464735984802246 min \n",
            " Test loss:  0.050368547439575195  Test accuracy:  0.96875\n"
          ],
          "name": "stdout"
        }
      ]
    },
    {
      "cell_type": "code",
      "metadata": {
        "id": "SpIj8B8r6rHl",
        "colab": {
          "base_uri": "https://localhost:8080/",
          "height": 590
        },
        "outputId": "84a21abf-cc3d-4e5a-c553-3a35fa80c235"
      },
      "source": [
        "# list all data in history\n",
        "print(history.history.keys())\n",
        "# summarize history for accuracy\n",
        "plt.plot(history.history['accuracy'])\n",
        "plt.plot(history.history['val_accuracy'])\n",
        "plt.title('model accuracy')\n",
        "plt.ylabel('accuracy')\n",
        "plt.xlabel('epoch')\n",
        "plt.legend(['train', 'test'], loc='upper left')\n",
        "plt.show()\n",
        "\n",
        "# summarize history for loss\n",
        "plt.plot(history.history['loss'])\n",
        "plt.plot(history.history['val_loss'])\n",
        "plt.title('model loss')\n",
        "plt.ylabel('loss')\n",
        "plt.xlabel('epoch')\n",
        "plt.legend(['train', 'test'], loc='upper left')\n",
        "plt.show()"
      ],
      "execution_count": null,
      "outputs": [
        {
          "output_type": "stream",
          "text": [
            "dict_keys(['loss', 'accuracy', 'val_loss', 'val_accuracy'])\n"
          ],
          "name": "stdout"
        },
        {
          "output_type": "display_data",
          "data": {
            "image/png": "[encoded data removed]",
            "text/plain": [
              "<Figure size 432x288 with 1 Axes>"
            ]
          },
          "metadata": {
            "tags": [],
            "needs_background": "light"
          }
        },
        {
          "output_type": "display_data",
          "data": {
            "image/png": "[encoded data removed]",
            "text/plain": [
              "<Figure size 432x288 with 1 Axes>"
            ]
          },
          "metadata": {
            "tags": [],
            "needs_background": "light"
          }
        }
      ]
    },
    {
      "cell_type": "code",
      "metadata": {
        "id": "v8HfpQn56rS5"
      },
      "source": [
        "from tensorflow.keras.models import model_from_json\n",
        "from tensorflow.keras.models import load_model\n",
        "\n",
        "\n",
        "model_json = model.to_json()\n",
        "\n",
        "with open(\"dcr.json\", \"w\") as json_file:\n",
        "    json_file.write(model_json)\n",
        "\n",
        "# serialize weights to HDF5\n",
        "model.save_weights(\"dcr.h5\")"
      ],
      "execution_count": null,
      "outputs": []
    },
    {
      "cell_type": "code",
      "metadata": {
        "id": "vWVXLqwh6rfO",
        "colab": {
          "base_uri": "https://localhost:8080/"
        },
        "outputId": "4eeb0d96-2b9d-48a4-f530-d97e1b98d5c1"
      },
      "source": [
        "# load json and create model\n",
        "json_file = open('dcr.json', 'r')\n",
        "\n",
        "loaded_model_json = json_file.read()\n",
        "json_file.close()\n",
        "loaded_model = model_from_json(loaded_model_json)\n",
        "\n",
        "# load weights into new model\n",
        "loaded_model.load_weights(\"dcr.h5\")\n",
        "print(\"Loaded model from disk\")\n",
        "\n",
        "loaded_model.save('dcr.hdf5')\n",
        "loaded_model=load_model('dcr.hdf5')"
      ],
      "execution_count": null,
      "outputs": [
        {
          "output_type": "stream",
          "text": [
            "Loaded model from disk\n",
            "WARNING:tensorflow:No training configuration found in the save file, so the model was *not* compiled. Compile it manually.\n"
          ],
          "name": "stdout"
        }
      ]
    },
    {
      "cell_type": "code",
      "metadata": {
        "colab": {
          "base_uri": "https://localhost:8080/",
          "height": 619
        },
        "id": "8bHs7r1v60e3",
        "outputId": "f54bcd3c-d06a-4b4b-ee91-c23642ae3890"
      },
      "source": [
        "import numpy as np\n",
        "import matplotlib.pyplot as plt\n",
        "import cv2\n",
        "import time\n",
        "import warnings\n",
        "warnings.filterwarnings(\"ignore\")\n",
        "\n",
        "img = cv2.imread(\"/content/drive/MyDrive/samar.png\", 0)\n",
        "\n",
        "def show(img, figsize=(20, 20)):\n",
        "    fig = plt.figure(figsize=figsize)\n",
        "    plt.imshow(img, cmap=\"gray\")\n",
        "    plt.show()\n",
        "show(img)"
      ],
      "execution_count": null,
      "outputs": [
        {
          "output_type": "display_data",
          "data": {
            "image/png": "[encoded data removed]",
            "text/plain": [
              "<Figure size 1440x1440 with 1 Axes>"
            ]
          },
          "metadata": {
            "tags": [],
            "needs_background": "light"
          }
        }
      ]
    },
    {
      "cell_type": "code",
      "metadata": {
        "id": "fD6-4yJA60nA"
      },
      "source": [
        "def borders(here_img, thresh, bthresh=0.092):\n",
        "    shape = here_img.shape\n",
        "    #check = int(115 * size[0] / 600)\n",
        "    #check = int(55 * size[0] / 600)\n",
        "    check= int(bthresh*shape[0])\n",
        "    image = here_img[:]\n",
        "    top, bottom = 0, shape[0] - 1\n",
        "    #plt.imshow(image)\n",
        "    #plt.show()\n",
        "    \n",
        "\n",
        "    #find the background color for empty column\n",
        "    bg = np.repeat(thresh, shape[1])\n",
        "    count = 0\n",
        "    for row in range(1, shape[0]):\n",
        "        if  (np.equal(bg, image[row]).any()) == True:\n",
        "            #print(count)\n",
        "            count += 1\n",
        "        else:\n",
        "            count = 0\n",
        "        if count >= check:\n",
        "            top = row - check\n",
        "            break\n",
        "    \n",
        "\n",
        "    bg = np.repeat(thresh, shape[1])\n",
        "    count = 0\n",
        "    rows = np.arange(1, shape[0])\n",
        "    #print(rows)\n",
        "    for row in rows[::-1]:\n",
        "        if  (np.equal(bg, image[row]).any()) == True:\n",
        "            count += 1\n",
        "        else:\n",
        "            count = 0\n",
        "        if count >= check:\n",
        "            bottom = row + count\n",
        "            break\n",
        "\n",
        "    d1 = (top - 2) >= 0 \n",
        "    d2 = (bottom + 2) < shape[0]\n",
        "    d = d1 and d2\n",
        "    if(d):\n",
        "        b = 2\n",
        "    else:\n",
        "        b = 0\n",
        "    \n",
        "    return (top, bottom, b)\n"
      ],
      "execution_count": null,
      "outputs": []
    },
    {
      "cell_type": "code",
      "metadata": {
        "colab": {
          "base_uri": "https://localhost:8080/",
          "height": 169
        },
        "id": "D3oD93cm6-vW",
        "outputId": "0d3f10e9-3546-4515-ca5e-e7183a3f8488"
      },
      "source": [
        "def preprocess(bgr_img):#gray image   \n",
        "    blur = cv2.GaussianBlur(bgr_img,(5,5),0)\n",
        "    ret,th_img = cv2.threshold(blur,0,255,cv2.THRESH_BINARY_INV+cv2.THRESH_OTSU) #converts black to white and inverse\n",
        "\n",
        "    rows, cols = th_img.shape\n",
        "    bg_test = np.array([th_img[i][i] for i in range(5)])\n",
        "    if bg_test.all() == 0:\n",
        "        text_color = 255\n",
        "    else:\n",
        "        text_color = 0\n",
        "    \n",
        "    tb = borders(th_img, text_color)\n",
        "    lr = borders(th_img.T, text_color)\n",
        "    dummy = int(np.average((tb[2], lr[2]))) + 2\n",
        "    template = th_img[tb[0]+dummy:tb[1]-dummy, lr[0]+dummy:lr[1]-dummy]\n",
        "    \n",
        "    plt.imshow(template)\n",
        "    plt.show()\n",
        "    return (template, tb, lr)\n",
        "prepimg, tb, lr = preprocess(img)"
      ],
      "execution_count": null,
      "outputs": [
        {
          "output_type": "display_data",
          "data": {
            "image/png": "[encoded data removed]",
            "text/plain": [
              "<Figure size 432x288 with 1 Axes>"
            ]
          },
          "metadata": {
            "tags": [],
            "needs_background": "light"
          }
        }
      ]
    },
    {
      "cell_type": "code",
      "metadata": {
        "colab": {
          "base_uri": "https://localhost:8080/",
          "height": 770
        },
        "id": "UzwlECf46_Ab",
        "outputId": "d0592345-af00-4498-9f1d-0055350cb585"
      },
      "source": [
        "def segmentation(bordered, thresh=255, min_seg=10, scheck=0.15):\n",
        "    try:\n",
        "        shape = bordered.shape\n",
        "        check = int(scheck * shape[0])\n",
        "        image = bordered[:]\n",
        "        image = image[check:].T\n",
        "        shape = image.shape\n",
        "        #plt.imshow(image)\n",
        "        #plt.show()\n",
        "\n",
        "        #find the background color for empty column\n",
        "        bg = np.repeat(255 - thresh, shape[1])\n",
        "        bg_keys = []\n",
        "        for row in range(1, shape[0]):\n",
        "            if  (np.equal(bg, image[row]).all()):\n",
        "                bg_keys.append(row)            \n",
        "\n",
        "        lenkeys = len(bg_keys)-1\n",
        "        new_keys = [bg_keys[1], bg_keys[-1]]\n",
        "        #print(lenkeys)\n",
        "        for i in range(1, lenkeys):\n",
        "            if (bg_keys[i+1] - bg_keys[i]) > check:\n",
        "                new_keys.append(bg_keys[i])\n",
        "                #print(i)\n",
        "\n",
        "        new_keys = sorted(new_keys)\n",
        "        #print(new_keys)\n",
        "        segmented_templates = []\n",
        "        first = 0\n",
        "        bounding_boxes = []\n",
        "        for key in new_keys[1:]:\n",
        "            segment = bordered.T[first:key]\n",
        "            if segment.shape[0]>=min_seg and segment.shape[1]>=min_seg:\n",
        "                segmented_templates.append(segment.T)\n",
        "                bounding_boxes.append((first, key))\n",
        "            first = key\n",
        "        \n",
        "        last_segment = bordered.T[new_keys[-1]:]\n",
        "        if last_segment.shape[0]>=min_seg and last_segment.shape[1]>=min_seg:\n",
        "            segmented_templates.append(last_segment.T)\n",
        "            bounding_boxes.append((new_keys[-1], new_keys[-1]+last_segment.shape[0]))\n",
        "\n",
        "\n",
        "        return(segmented_templates, bounding_boxes)\n",
        "    except:\n",
        "        return [bordered, (0, bordered.shape[1])]\n",
        "segments=segmentation(prepimg)\n",
        "for simg in segments[0]:\n",
        "    plt.imshow(simg)\n",
        "    plt.show()"
      ],
      "execution_count": null,
      "outputs": [
        {
          "output_type": "display_data",
          "data": {
            "image/png": "[encoded data removed]",
            "text/plain": [
              "<Figure size 432x288 with 1 Axes>"
            ]
          },
          "metadata": {
            "tags": [],
            "needs_background": "light"
          }
        },
        {
          "output_type": "display_data",
          "data": {
            "image/png": "[encoded data removed]",
            "text/plain": [
              "<Figure size 432x288 with 1 Axes>"
            ]
          },
          "metadata": {
            "tags": [],
            "needs_background": "light"
          }
        },
        {
          "output_type": "display_data",
          "data": {
            "image/png": "[encoded data removed]",
            "text/plain": [
              "<Figure size 432x288 with 1 Axes>"
            ]
          },
          "metadata": {
            "tags": [],
            "needs_background": "light"
          }
        }
      ]
    },
    {
      "cell_type": "code",
      "metadata": {
        "id": "dDrCBlZ-6_Ln",
        "colab": {
          "base_uri": "https://localhost:8080/",
          "height": 163
        },
        "outputId": "b853ae2c-72a9-42dd-9149-24c7b4275fdf"
      },
      "source": [
        "del zip"
      ],
      "execution_count": null,
      "outputs": [
        {
          "output_type": "error",
          "ename": "NameError",
          "evalue": "ignored",
          "traceback": [
            "\u001b[0;31m---------------------------------------------------------------------------\u001b[0m",
            "\u001b[0;31mNameError\u001b[0m                                 Traceback (most recent call last)",
            "\u001b[0;32m<ipython-input-54-8885d0e8f173>\u001b[0m in \u001b[0;36m<module>\u001b[0;34m()\u001b[0m\n\u001b[0;32m----> 1\u001b[0;31m \u001b[0;32mdel\u001b[0m \u001b[0mzip\u001b[0m\u001b[0;34m\u001b[0m\u001b[0;34m\u001b[0m\u001b[0m\n\u001b[0m",
            "\u001b[0;31mNameError\u001b[0m: name 'zip' is not defined"
          ]
        }
      ]
    },
    {
      "cell_type": "code",
      "metadata": {
        "colab": {
          "base_uri": "https://localhost:8080/",
          "height": 1000
        },
        "id": "KdCSRq_B7QN_",
        "outputId": "94d7b3d9-3674-40c9-9b92-81972597a3a5"
      },
      "source": [
        "def localize(orig_img, tb, lr, segments):\n",
        "    d=5\n",
        "    rimg = orig_img.copy()\n",
        "    boxes = []\n",
        "    for simg, bb in zip(segments[0], segments[1]):\n",
        "        bb = np.array(bb)\n",
        "        bb += lr[0]\n",
        "        # draw rows\n",
        "        rimg[tb[0]-d:tb[0], bb[0]-d:bb[1]+d] = 0\n",
        "        rimg[tb[1]:tb[1]+d, bb[0]-d:bb[1]+d] = 0\n",
        "\n",
        "        # draw cols\n",
        "        rimg[tb[0]-d:tb[1]+d, bb[0]-d:bb[0]+d] = 0\n",
        "        rimg[tb[0]-d:tb[1]+d, bb[1]-d:bb[1]+d] = 0\n",
        "        \n",
        "        boxes.append((tb[0]-d, tb[1]+d, bb[0], bb[1]))\n",
        "        show(rimg)\n",
        "    rimg = img.copy()\n",
        "    print(boxes)\n",
        "    for box in boxes:\n",
        "        t, b, l, r = box\n",
        "        cv2.rectangle(rimg, (l, t), (r, b), (0, 0, 0), 2)\n",
        "    show(rimg)    \n",
        "    return rimg, boxes\n",
        "localized = localize(img, tb, lr, segments)"
      ],
      "execution_count": null,
      "outputs": [
        {
          "output_type": "display_data",
          "data": {
            "image/png": "[encoded data removed]",
            "text/plain": [
              "<Figure size 1440x1440 with 1 Axes>"
            ]
          },
          "metadata": {
            "tags": [],
            "needs_background": "light"
          }
        },
        {
          "output_type": "display_data",
          "data": {
            "image/png": "[encoded data removed]",
            "text/plain": [
              "<Figure size 1440x1440 with 1 Axes>"
            ]
          },
          "metadata": {
            "tags": [],
            "needs_background": "light"
          }
        },
        {
          "output_type": "display_data",
          "data": {
            "image/png": "[encoded data removed]",
            "text/plain": [
              "<Figure size 1440x1440 with 1 Axes>"
            ]
          },
          "metadata": {
            "tags": [],
            "needs_background": "light"
          }
        },
        {
          "output_type": "stream",
          "text": [
            "[(79, 174, 170, 254), (79, 174, 254, 338), (79, 174, 338, 388)]\n"
          ],
          "name": "stdout"
        },
        {
          "output_type": "display_data",
          "data": {
            "image/png": "[encoded data removed]",
            "text/plain": [
              "<Figure size 1440x1440 with 1 Axes>"
            ]
          },
          "metadata": {
            "tags": [],
            "needs_background": "light"
          }
        }
      ]
    },
    {
      "cell_type": "code",
      "metadata": {
        "id": "B4F9h4Du7Qbb"
      },
      "source": [
        "import predictor\n",
        "import numpy as np\n",
        "from tensorflow.keras.models import model_from_json\n",
        "from tensorflow.keras.models import load_model\n",
        "\n",
        "def prediction(img):\n",
        "    # load json and create model\n",
        "    json_file = open('/content/cnn1.json', 'r')\n",
        "    \n",
        "    loaded_model_json = json_file.read()\n",
        "    json_file.close()\n",
        "    loaded_model = model_from_json(loaded_model_json)\n",
        "    \n",
        "    # load weights into new model\n",
        "    loaded_model.load_weights(\"/content/cnn1.h5\")\n",
        "    print(\"Loaded model from disk\")\n",
        "    \n",
        "    loaded_model.save('/content/cnn1.hdf5')\n",
        "    loaded_model=load_model('/content/cnn1.hdf5')\n",
        "    \n",
        "    characters = '०,१,२,३,४,५,६,७,८,९,क,ख,ग,घ,ङ,च,छ,ज,झ,ञ,ट,ठ,ड,ढ,ण,त,थ,द,ध,न,प,फ,ब,भ,म,य,र,ल,व,श,ष,स,ह,क्ष,त्र,ज्ञ'\n",
        "    characters = characters.split(',')\n",
        "    \n",
        "    x = np.asarray(img, dtype = np.float32).reshape(1, 32, 32, 1) / 255 \n",
        "    \n",
        "    output = loaded_model.predict(x)\n",
        "    output = output.reshape(46)\n",
        "    predicted = np.argmax(output)\n",
        "    devanagari_label = characters[predicted]\n",
        "    success = output[predicted] * 100\n",
        "    \n",
        "    return devanagari_label, success"
      ],
      "execution_count": null,
      "outputs": []
    },
    {
      "cell_type": "code",
      "metadata": {
        "id": "Po9eU5eO7bPm",
        "colab": {
          "base_uri": "https://localhost:8080/"
        },
        "outputId": "c33cfa0f-86e0-47c4-9bd3-204b45785c12"
      },
      "source": [
        "def classifier(segments):\n",
        "    pred_lbl = \"\"\n",
        "    acc = []\n",
        "    for segment in segments:\n",
        "        segment = cv2.resize(segment, (32, 32))\n",
        "        segment = cv2.GaussianBlur(segment, (3, 3), 0)\n",
        "        segment = cv2.erode(segment, (3, 3), 1)\n",
        "        #show(segment)\n",
        "        \n",
        "        lbl, a = prediction(segment)\n",
        "        pred_lbl+=lbl\n",
        "        acc.append(a)\n",
        "    return pred_lbl, np.array(acc).mean()\n",
        "classifier(segments[0])"
      ],
      "execution_count": null,
      "outputs": [
        {
          "output_type": "stream",
          "text": [
            "Loaded model from disk\n",
            "WARNING:tensorflow:No training configuration found in the save file, so the model was *not* compiled. Compile it manually.\n",
            "WARNING:tensorflow:11 out of the last 11 calls to <function Model.make_predict_function.<locals>.predict_function at 0x7f7e825ab1e0> triggered tf.function retracing. Tracing is expensive and the excessive number of tracings could be due to (1) creating @tf.function repeatedly in a loop, (2) passing tensors with different shapes, (3) passing Python objects instead of tensors. For (1), please define your @tf.function outside of the loop. For (2), @tf.function has experimental_relax_shapes=True option that relaxes argument shapes that can avoid unnecessary retracing. For (3), please refer to https://www.tensorflow.org/tutorials/customization/performance#python_or_tensor_args and https://www.tensorflow.org/api_docs/python/tf/function for  more details.\n",
            "Loaded model from disk\n",
            "WARNING:tensorflow:No training configuration found in the save file, so the model was *not* compiled. Compile it manually.\n",
            "WARNING:tensorflow:11 out of the last 11 calls to <function Model.make_predict_function.<locals>.predict_function at 0x7f7e8257b730> triggered tf.function retracing. Tracing is expensive and the excessive number of tracings could be due to (1) creating @tf.function repeatedly in a loop, (2) passing tensors with different shapes, (3) passing Python objects instead of tensors. For (1), please define your @tf.function outside of the loop. For (2), @tf.function has experimental_relax_shapes=True option that relaxes argument shapes that can avoid unnecessary retracing. For (3), please refer to https://www.tensorflow.org/tutorials/customization/performance#python_or_tensor_args and https://www.tensorflow.org/api_docs/python/tf/function for  more details.\n",
            "Loaded model from disk\n",
            "WARNING:tensorflow:No training configuration found in the save file, so the model was *not* compiled. Compile it manually.\n",
            "WARNING:tensorflow:11 out of the last 11 calls to <function Model.make_predict_function.<locals>.predict_function at 0x7f7e8257b620> triggered tf.function retracing. Tracing is expensive and the excessive number of tracings could be due to (1) creating @tf.function repeatedly in a loop, (2) passing tensors with different shapes, (3) passing Python objects instead of tensors. For (1), please define your @tf.function outside of the loop. For (2), @tf.function has experimental_relax_shapes=True option that relaxes argument shapes that can avoid unnecessary retracing. For (3), please refer to https://www.tensorflow.org/tutorials/customization/performance#python_or_tensor_args and https://www.tensorflow.org/api_docs/python/tf/function for  more details.\n"
          ],
          "name": "stdout"
        },
        {
          "output_type": "execute_result",
          "data": {
            "text/plain": [
              "('समर', 81.4973533153534)"
            ]
          },
          "metadata": {
            "tags": []
          },
          "execution_count": 57
        }
      ]
    },
    {
      "cell_type": "code",
      "metadata": {
        "colab": {
          "base_uri": "https://localhost:8080/"
        },
        "id": "wvmD4Bu97fG1",
        "outputId": "7d8ecb2d-cbc2-45ec-a18c-5cb3ba6c3043"
      },
      "source": [
        "!ls /content/drive/My\\ Drive/recognition.py"
      ],
      "execution_count": null,
      "outputs": [
        {
          "output_type": "stream",
          "text": [
            "'/content/drive/My Drive/recognition.py'\n"
          ],
          "name": "stdout"
        }
      ]
    },
    {
      "cell_type": "code",
      "metadata": {
        "colab": {
          "base_uri": "https://localhost:8080/"
        },
        "id": "q-ixYLs3H7WN",
        "outputId": "894b8312-b53b-483a-ab5b-e650a24657eb"
      },
      "source": [
        "!cat '/content/drive/My Drive/recognition.py'"
      ],
      "execution_count": null,
      "outputs": [
        {
          "output_type": "stream",
          "text": [
            "# -*- coding: utf-8 -*-\n",
            "\"\"\"\n",
            "Created on Thu Apr 11 13:50:41 2019\n",
            "\n",
            "@author: Quassarian Viper\n",
            "\"\"\"\n",
            "from preprocess import preprocess, detect_text, localize\n",
            "from predictor import prediction\n",
            "import numpy as np\n",
            "import matplotlib.pyplot as plt\n",
            "import cv2\n",
            "\n",
            "def recognition(gray_image, show):\n",
            "    segments, template, th_img, text_color = preprocess(gray_image)\n",
            "    labels = []\n",
            "    accuracy = []\n",
            "    show_img = gray_image[:]\n",
            "    #print(len(segments))\n",
            "    \n",
            "    for segment in segments: \n",
            "        #plt.imshow(segment)\n",
            "        #plt.show()\n",
            "        recimg, bimg = detect_text(show_img, th_img, segment, text_color)\n",
            "        #print('Process: Recognition....\\n')\n",
            "        label, sure = prediction(bimg)\n",
            "        if(sure > 80):\n",
            "            #print(segment)\n",
            "            labels.append(str(label))\n",
            "            accuracy.append(sure)\n",
            "            show_img = localize(show_img, th_img, segment, text_color, show)\n",
            "        char = labels\n",
            "    accuracy = np.average(accuracy)\n",
            "    char = ''.join(char)\n",
            "    if accuracy < 80:\n",
            "        recimg, bimg = detect_text(show_img, th_img, template, text_color)\n",
            "        show_img = localize(show_img, th_img, template, text_color, show)\n",
            "        char, accuracy = prediction(bimg)\n",
            "        \n",
            "    if (show == 'show'):\n",
            "        plt.imshow(show_img)\n",
            "        plt.title('Detecting')\n",
            "        plt.xticks([])\n",
            "        plt.yticks([])\n",
            "        plt.show()\n",
            "    else:\n",
            "        cv2.imshow('Detecting..', cv2.cvtColor(show_img, cv2.COLOR_GRAY2BGR))\n",
            "    \n",
            "    print('The prediction accuracy for ', char,' is ',\"%.2f\" % round(accuracy,2), '%')\n",
            "    \n",
            "    #plt.imshow(cv2.cvtColor(show_img, cv2.COLOR_GRAY2RGB))\n",
            "    #plt.show()"
          ],
          "name": "stdout"
        }
      ]
    },
    {
      "cell_type": "code",
      "metadata": {
        "id": "BfSjWt8cH_qN"
      },
      "source": [
        "from preprocess import preprocess, detect_text, localize\n",
        "from predictor import prediction\n",
        "import numpy as np\n",
        "import matplotlib.pyplot as plt\n",
        "import cv2\n",
        "\n",
        "def recognition(gray_image, show):\n",
        "    segments, template, th_img, text_color = preprocess(gray_image)\n",
        "    labels = []\n",
        "    accuracy = []\n",
        "    show_img = gray_image[:]\n",
        "    #print(len(segments))\n",
        "    \n",
        "    for segment in segments: \n",
        "        #plt.imshow(segment)\n",
        "        #plt.show()\n",
        "        recimg, bimg = detect_text(show_img, th_img, segment, text_color)\n",
        "        #print('Process: Recognition....\\n')\n",
        "        label, sure = prediction(bimg)\n",
        "        if(sure > 80):\n",
        "            #print(segment)\n",
        "            labels.append(str(label))\n",
        "            accuracy.append(sure)\n",
        "            show_img = localize(show_img, th_img, segment, text_color, show)\n",
        "        char = labels\n",
        "    accuracy = np.average(accuracy)\n",
        "    char = ''.join(char)\n",
        "    if accuracy < 80:\n",
        "        recimg, bimg = detect_text(show_img, th_img, template, text_color)\n",
        "        show_img = localize(show_img, th_img, template, text_color, show)\n",
        "        char, accuracy = prediction(bimg)\n",
        "        \n",
        "    if (show == 'show'):\n",
        "        plt.imshow(show_img)\n",
        "        plt.title('Detecting')\n",
        "        plt.xticks([])\n",
        "        plt.yticks([])\n",
        "        plt.show()\n",
        "    else:\n",
        "        cv2.imshow('Detecting..', cv2.cvtColor(show_img, cv2.COLOR_GRAY2BGR))\n",
        "    \n",
        "    print('The prediction accuracy for ', char,' is ',\"%.2f\" % round(accuracy,2), '%')\n",
        "    \n",
        "    #plt.imshow(cv2.cvtColor(show_img, cv2.COLOR_GRAY2RGB))\n",
        "    #plt.show()"
      ],
      "execution_count": null,
      "outputs": []
    },
    {
      "cell_type": "code",
      "metadata": {
        "id": "awBPlDeSKP2O"
      },
      "source": [
        " import cv2\n",
        "#from recognition import recognition\n",
        "import numpy as np\n",
        "import time\n",
        "import matplotlib.pyplot as plt\n",
        "\n",
        "def camera(flag):\n",
        "   # choice = print(\"Click spacebar for photo and anything else for video.\\n\")\n",
        "    orig = 1\n",
        "    cap = cv2.VideoCapture(0)\n",
        "    tr = 0.1\n",
        "    br = 0.8\n",
        "    lc = 0.1\n",
        "    rc = 0.8\n",
        "    f = 0\n",
        "    \n",
        "    while(flag):    \n",
        "        ret, frame = cap.read()\n",
        "        if ret:\n",
        "            #key event\n",
        "            s = cv2.waitKey(2) & 0xFF\n",
        "            \n",
        "            if(chr(s) == 'x'):\n",
        "                f = -1\n",
        "            if(chr(s) == 'z'):\n",
        "                f = 1\n",
        "            \n",
        "            if(chr(s) == 'a'):\n",
        "                tr = tr + 0.1 * f\n",
        "            if(chr(s) == 'd'):\n",
        "                br = br + 0.1 * f\n",
        "            if (chr(s) == 's'):\n",
        "                lc = lc + 0.1 * f\n",
        "            if (chr(s) == 'w'):\n",
        "                rc = rc + 0.1 * f\n",
        "                \n",
        "                \n",
        "            s_x, s_y = np.shape(frame)[0] * tr, np.shape(frame)[1] * lc\n",
        "            e_x, e_y = np.shape(frame)[1] * br, np.shape(frame)[0] * rc\n",
        "            s_x, s_y = np.int32(s_x), np.int32(s_y)\n",
        "            e_x, e_y = np.int32(e_x), np.int32(e_y)\n",
        "\n",
        "            gray = cv2.cvtColor(frame, cv2.COLOR_BGR2GRAY)\n",
        "            ogray = gray[:]\n",
        "            gray = gray[s_y:e_y, s_x:e_x]\n",
        "            #original = frame[s_y:e_y, s_x:e_x]\n",
        "            \n",
        "            if (s == 32): #space to capture image and do recognition\n",
        "                time1 = time.time()\n",
        "                plt.imshow(frame)\n",
        "                plt.show()\n",
        "                recognition(gray, 'show')\n",
        "                print(\"In %f\" %(time.time()-time1), 'sec')\n",
        "            if (s == 13): #enter to do realtime recognition\n",
        "                orig = 0\n",
        "                cv2.destroyWindow('Project DCR')\n",
        "                print(\"Doing RT...\")\n",
        "                recognition(ogray, 'no')\n",
        "           \n",
        "            \n",
        "            else:\n",
        "                if(orig != 0):\n",
        "                    show = frame[:]\n",
        "                    text = \"Press 'space' to take a photo and 'enter' to do realtime(slow).\"\n",
        "                    text1 = \"Make sure the character is inside rectangle.\"\n",
        "                    text2 = \"Press a/s/d/w for change size of rectangle and z/x to increase/decrease.\"\n",
        "                    cv2.putText(show, text1, (15, 50), cv2.FONT_HERSHEY_COMPLEX, 0.75, (0, 100, 200))\n",
        "                    cv2.putText(show, text2, (15, 70), cv2.FONT_HERSHEY_COMPLEX, 0.5, (50, 20, 255))\n",
        "                    cv2.rectangle(show, (s_x, s_y), (e_x, e_y), (0, 255, 0), 2)\n",
        "                    cv2.putText(show, text, (15, 30), cv2.FONT_HERSHEY_SIMPLEX, 0.6, (15, 0, 255), lineType=cv2.LINE_AA) \n",
        "                    cv2.imshow('Project DCR', show)\n",
        "        \n",
        "        else:\n",
        "            print('Trying.....\\n')\n",
        "            continue\n",
        "         \n",
        "         \n",
        "        if s == 27:\n",
        "            break\n",
        "    cap.release()\n",
        "    cv2.destroyAllWindows()"
      ],
      "execution_count": null,
      "outputs": []
    },
    {
      "cell_type": "code",
      "metadata": {
        "colab": {
          "base_uri": "https://localhost:8080/"
        },
        "id": "pGpzXaSjKZDU",
        "outputId": "2008d721-cd60-46f6-bf95-296a898495e2"
      },
      "source": [
        "!ls /content/drive/My\\ Drive/main.py"
      ],
      "execution_count": null,
      "outputs": [
        {
          "output_type": "stream",
          "text": [
            "'/content/drive/My Drive/main.py'\n"
          ],
          "name": "stdout"
        }
      ]
    },
    {
      "cell_type": "code",
      "metadata": {
        "colab": {
          "base_uri": "https://localhost:8080/"
        },
        "id": "Bv6YQVJjLsdG",
        "outputId": "bcf74540-3c2a-4758-a8f0-a22dd31d99ce"
      },
      "source": [
        "!ls /content/drive/My\\ Drive/video_test.py"
      ],
      "execution_count": null,
      "outputs": [
        {
          "output_type": "stream",
          "text": [
            "'/content/drive/My Drive/video_test.py'\n"
          ],
          "name": "stdout"
        }
      ]
    }
  ]
}